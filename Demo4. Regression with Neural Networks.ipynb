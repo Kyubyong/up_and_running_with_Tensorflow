{
 "cells": [
  {
   "cell_type": "code",
   "execution_count": 1,
   "metadata": {
    "collapsed": false
   },
   "outputs": [],
   "source": [
    "import numpy as np\n",
    "import tensorflow as tf\n",
    "import matplotlib.pyplot as plt\n",
    "%matplotlib inline"
   ]
  },
  {
   "cell_type": "code",
   "execution_count": 2,
   "metadata": {
    "collapsed": true
   },
   "outputs": [],
   "source": [
    "# For reproducibility\n",
    "np.random.seed(1)"
   ]
  },
  {
   "cell_type": "markdown",
   "metadata": {},
   "source": [
    "Let's set the basic scheme."
   ]
  },
  {
   "cell_type": "code",
   "execution_count": 3,
   "metadata": {
    "collapsed": false
   },
   "outputs": [],
   "source": [
    "_x = np.arange(0, 100, .1)\n",
    "np.random.shuffle(_x)\n",
    "_y = _x + 20*np.sin(_x*.1)"
   ]
  },
  {
   "cell_type": "code",
   "execution_count": 4,
   "metadata": {
    "collapsed": false
   },
   "outputs": [
    {
     "data": {
      "text/plain": [
       "<matplotlib.collections.PathCollection at 0x2ba53087b00>"
      ]
     },
     "execution_count": 4,
     "metadata": {},
     "output_type": "execute_result"
    },
    {
     "data": {
      "image/png": "[encoded data removed]",
      "text/plain": [
       "<matplotlib.figure.Figure at 0x2ba4f466b00>"
      ]
     },
     "metadata": {},
     "output_type": "display_data"
    }
   ],
   "source": [
    "plt.scatter(_x, _y)"
   ]
  },
  {
   "cell_type": "code",
   "execution_count": 5,
   "metadata": {
    "collapsed": true
   },
   "outputs": [],
   "source": [
    "_x_train, _x_test = _x[:-100], _x[-100:]\n",
    "_y_train, _y_test = _y[:-100], _y[-100:]"
   ]
  },
  {
   "cell_type": "markdown",
   "metadata": {
    "collapsed": true
   },
   "source": [
    "Graph Building"
   ]
  },
  {
   "cell_type": "code",
   "execution_count": 6,
   "metadata": {
    "collapsed": true
   },
   "outputs": [],
   "source": [
    "# Inputs\n",
    "X_pl = tf.placeholder(tf.float32, [None, 1])\n",
    "Y_pl = tf.placeholder(tf.float32, [None, 1])"
   ]
  },
  {
   "cell_type": "code",
   "execution_count": 7,
   "metadata": {
    "collapsed": false
   },
   "outputs": [],
   "source": [
    "# Variables\n",
    "W = tf.Variable(tf.random_normal((1, 1000)), name=\"weight\")\n",
    "b = tf.Variable(tf.zeros((1000,), tf.float32), name=\"bias\")"
   ]
  },
  {
   "cell_type": "code",
   "execution_count": 8,
   "metadata": {
    "collapsed": false
   },
   "outputs": [],
   "source": [
    "# fully connected layer (a.k.a. dense layer)\n",
    "fc1 = tf.matmul(X_pl, W) + b # (None, 10)\n",
    "\n",
    "# Ouputs\n",
    "W2 = tf.Variable(tf.random_normal((1000, 1)), name=\"weight2\")\n",
    "b2 = tf.Variable(0., name=\"bias2\")\n",
    "preds = tf.matmul(fc1, W2) + b2 # (None, 1)\n",
    "\n"
   ]
  },
  {
   "cell_type": "code",
   "execution_count": 9,
   "metadata": {
    "collapsed": false
   },
   "outputs": [],
   "source": [
    "# Loss\n",
    "loss = tf.reduce_mean(tf.square(preds - Y_pl)) # L2 loss"
   ]
  },
  {
   "cell_type": "code",
   "execution_count": 10,
   "metadata": {
    "collapsed": false
   },
   "outputs": [],
   "source": [
    "# Training scheme\n",
    "optimizer = tf.train.AdamOptimizer(0.01)\n",
    "train_op = optimizer.minimize(loss)"
   ]
  },
  {
   "cell_type": "markdown",
   "metadata": {
    "collapsed": true
   },
   "source": [
    "Run Session"
   ]
  },
  {
   "cell_type": "code",
   "execution_count": 12,
   "metadata": {
    "collapsed": true
   },
   "outputs": [],
   "source": [
    "def get_samples(x, y, size):\n",
    "    assert len(x) == len(y), \"Two arrays must be the same in length!\"\n",
    "    indices = np.random.choice(len(x), size)\n",
    "    sample1 = x[indices]\n",
    "    sample2 = y[indices]\n",
    "    return np.expand_dims(sample1,1), np.expand_dims(sample2, 1)"
   ]
  },
  {
   "cell_type": "code",
   "execution_count": 13,
   "metadata": {
    "collapsed": false,
    "scrolled": true
   },
   "outputs": [],
   "source": [
    "sess = tf.Session()\n",
    "sess.run(tf.global_variables_initializer())\n",
    "\n",
    "summary_writer = tf.summary.FileWriter('asset2')\n",
    "for i in range(1, 3001):\n",
    "    x_batch, y_batch = get_samples(_x_train, _y_train, 100)\n",
    "    X = np.expand_dims(_x_train, -1)\n",
    "    Y = np.expand_dims(_y_train, -1)\n",
    "    \n",
    "    sess.run(train_op, {X_pl: X, Y_pl: Y})\n",
    "    \n"
   ]
  },
  {
   "cell_type": "code",
   "execution_count": 14,
   "metadata": {
    "collapsed": false
   },
   "outputs": [],
   "source": [
    "# Report\n",
    "## Training data\n",
    "_preds = sess.run(preds, {X_pl: np.expand_dims(_x_test, -1)})\n"
   ]
  },
  {
   "cell_type": "code",
   "execution_count": 15,
   "metadata": {
    "collapsed": false
   },
   "outputs": [
    {
     "data": {
      "text/plain": [
       "array([[ 45.93869781],\n",
       "       [ 33.36933136],\n",
       "       [ 68.17557526],\n",
       "       [ 21.57360077],\n",
       "       [ 63.05161285],\n",
       "       [ 96.11734772],\n",
       "       [ 20.51016998],\n",
       "       [ 39.94364166],\n",
       "       [ 42.36118317],\n",
       "       [ 32.49964142],\n",
       "       [ 17.7062149 ],\n",
       "       [ 73.88101959],\n",
       "       [ 80.64847565],\n",
       "       [  7.65100002],\n",
       "       [ 65.0822525 ],\n",
       "       [ 69.81998444],\n",
       "       [ 32.78940582],\n",
       "       [ 92.83219147],\n",
       "       [ 51.06290436],\n",
       "       [ 76.87735748],\n",
       "       [ 41.00711823],\n",
       "       [  7.94104862],\n",
       "       [ 24.47418976],\n",
       "       [ 11.71181583],\n",
       "       [  6.97417355],\n",
       "       [ 50.57913971],\n",
       "       [ 34.23932648],\n",
       "       [ 90.89713287],\n",
       "       [ 65.56522369],\n",
       "       [ 38.00980377],\n",
       "       [ 84.80619049],\n",
       "       [  8.03771877],\n",
       "       [ 62.37509918],\n",
       "       [  9.68136692],\n",
       "       [ 53.57602692],\n",
       "       [ 82.09976959],\n",
       "       [ 55.31687164],\n",
       "       [ 97.85953522],\n",
       "       [ 59.76450348],\n",
       "       [ 94.18460846],\n",
       "       [ 49.41916656],\n",
       "       [ 42.94062042],\n",
       "       [ 12.38851261],\n",
       "       [ 57.92649078],\n",
       "       [ 49.6124649 ],\n",
       "       [ 66.72592926],\n",
       "       [ 47.19589996],\n",
       "       [ 66.14530182],\n",
       "       [ 68.6601944 ],\n",
       "       [ 75.91086578],\n",
       "       [ 31.04871368],\n",
       "       [ 25.73108673],\n",
       "       [ 36.07639313],\n",
       "       [ 92.15506744],\n",
       "       [ 55.12424469],\n",
       "       [ 35.7864151 ],\n",
       "       [ 57.15457916],\n",
       "       [ 85.67752838],\n",
       "       [ 36.36676788],\n",
       "       [  6.20068073],\n",
       "       [ 43.52167511],\n",
       "       [ 19.15642548],\n",
       "       [ 13.83884525],\n",
       "       [ 89.06046295],\n",
       "       [ 51.73990631],\n",
       "       [ 54.15726471],\n",
       "       [ 78.32865143],\n",
       "       [ 26.31150055],\n",
       "       [ 61.60196686],\n",
       "       [ 59.86130524],\n",
       "       [ 44.00489044],\n",
       "       [ 94.95731354],\n",
       "       [ 70.10929108],\n",
       "       [ 52.89975739],\n",
       "       [ 29.88861847],\n",
       "       [ 93.21659088],\n",
       "       [ 50.77237701],\n",
       "       [ 93.89530182],\n",
       "       [ 40.04053497],\n",
       "       [ 30.08222198],\n",
       "       [ 32.20929718],\n",
       "       [ 22.73409271],\n",
       "       [ 32.69278717],\n",
       "       [ 43.23081207],\n",
       "       [ 54.64109039],\n",
       "       [ 77.94083405],\n",
       "       [ 61.89163971],\n",
       "       [ 99.50150299],\n",
       "       [ 17.99633026],\n",
       "       [ 19.44644928],\n",
       "       [ 98.3411026 ],\n",
       "       [ 87.41617584],\n",
       "       [ 67.88626862],\n",
       "       [ 74.65396881],\n",
       "       [ 93.02469635],\n",
       "       [ 79.68167877],\n",
       "       [ 12.4851923 ],\n",
       "       [ 93.31461334],\n",
       "       [ 28.24500275],\n",
       "       [  9.10128117]], dtype=float32)"
      ]
     },
     "execution_count": 15,
     "metadata": {},
     "output_type": "execute_result"
    }
   ],
   "source": [
    "_preds"
   ]
  },
  {
   "cell_type": "code",
   "execution_count": 16,
   "metadata": {
    "collapsed": false
   },
   "outputs": [
    {
     "data": {
      "image/png": "[encoded data removed]",
      "text/plain": [
       "<matplotlib.figure.Figure at 0x2ba53229160>"
      ]
     },
     "metadata": {},
     "output_type": "display_data"
    }
   ],
   "source": [
    "plt.scatter(_x_test, _preds, c=\"r\")\n",
    "plt.scatter(_x_test, _y_test)\n",
    "plt.show()"
   ]
  },
  {
   "cell_type": "code",
   "execution_count": null,
   "metadata": {
    "collapsed": true
   },
   "outputs": [],
   "source": []
  }
 ],
 "metadata": {
  "anaconda-cloud": {},
  "kernelspec": {
   "display_name": "Python [conda root]",
   "language": "python",
   "name": "conda-root-py"
  },
  "language_info": {
   "codemirror_mode": {
    "name": "ipython",
    "version": 3
   },
   "file_extension": ".py",
   "mimetype": "text/x-python",
   "name": "python",
   "nbconvert_exporter": "python",
   "pygments_lexer": "ipython3",
   "version": "3.5.2"
  }
 },
 "nbformat": 4,
 "nbformat_minor": 2
}
