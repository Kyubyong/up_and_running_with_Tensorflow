{
 "cells": [
  {
   "cell_type": "markdown",
   "metadata": {},
   "source": [
    "Ch1. Build a graph which 5 cycles below and retrieve the value of Variable `a` and Tensor `e`."
   ]
  },
  {
   "cell_type": "markdown",
   "metadata": {},
   "source": [
    "<img src=\"figs/fig2.png\",width=500>"
   ]
  },
  {
   "cell_type": "markdown",
   "metadata": {},
   "source": [
    "Start TensorFlow"
   ]
  },
  {
   "cell_type": "code",
   "execution_count": 1,
   "metadata": {
    "collapsed": true
   },
   "outputs": [],
   "source": [
    "import tensorflow as tf"
   ]
  },
  {
   "cell_type": "markdown",
   "metadata": {},
   "source": [
    "Build a graph"
   ]
  },
  {
   "cell_type": "code",
   "execution_count": 2,
   "metadata": {
    "collapsed": false
   },
   "outputs": [],
   "source": [
    "# Define inputs\n",
    "a = tf.Variable(2, tf.int32)\n",
    "b = tf.constant(3, tf.int32)\n",
    "\n",
    "# Ops\n",
    "c = tf.mul(a, b)\n",
    "d = tf.add(a, b)\n",
    "e = tf.sub(c, d)\n",
    "\n",
    "# Update the value of `a`\n",
    "update_op = tf.assign(a, a + e)\n",
    "\n",
    "# initialize variable(s)\n",
    "init = a.initializer\n",
    "\n",
    "# Create a saver\n",
    "saver = tf.train.Saver([a])"
   ]
  },
  {
   "cell_type": "markdown",
   "metadata": {},
   "source": [
    "Launch the graph"
   ]
  },
  {
   "cell_type": "code",
   "execution_count": 3,
   "metadata": {
    "collapsed": false
   },
   "outputs": [
    {
     "data": {
      "text/plain": [
       "3"
      ]
     },
     "execution_count": 3,
     "metadata": {},
     "output_type": "execute_result"
    }
   ],
   "source": [
    "sess=tf.InteractiveSession()\n",
    "sess.run(tf.global_variables_initializer())\n",
    "update_op.eval()"
   ]
  },
  {
   "cell_type": "code",
   "execution_count": 4,
   "metadata": {
    "collapsed": false
   },
   "outputs": [
    {
     "name": "stdout",
     "output_type": "stream",
     "text": [
      "2 1\n",
      "3 3\n",
      "6 9\n",
      "15 27\n",
      "42 81\n"
     ]
    }
   ],
   "source": [
    "# Start a session\n",
    "sess = tf.Session()\n",
    "\n",
    "# Initialize Variable(s)\n",
    "sess.run(init)\n",
    "\n",
    "# Fetch the value of c, d, and e.\n",
    "for step in range(5):\n",
    "    _a, _e = sess.run([a, e])\n",
    "    \n",
    "    # Save Variable a\n",
    "    saver.save(sess, './ckpt.ckpt')   \n",
    "    \n",
    "    print(_a, _e)\n",
    "    sess.run(update_op)\n",
    "\n",
    "# Close the session\n",
    "sess.close()"
   ]
  },
  {
   "cell_type": "markdown",
   "metadata": {},
   "source": [
    "Restore Variable a"
   ]
  },
  {
   "cell_type": "code",
   "execution_count": 5,
   "metadata": {
    "collapsed": false
   },
   "outputs": [
    {
     "name": "stdout",
     "output_type": "stream",
     "text": [
      "42\n"
     ]
    }
   ],
   "source": [
    "# Start a new session\n",
    "sess2 = tf.Session()\n",
    "\n",
    "# Restore Variable a\n",
    "saver.restore(sess2, './ckpt.ckpt')\n",
    "\n",
    "# Check the value of a\n",
    "print(sess2.run(a))"
   ]
  },
  {
   "cell_type": "code",
   "execution_count": null,
   "metadata": {
    "collapsed": true
   },
   "outputs": [],
   "source": []
  }
 ],
 "metadata": {
  "anaconda-cloud": {},
  "kernelspec": {
   "display_name": "Python [conda root]",
   "language": "python",
   "name": "conda-root-py"
  },
  "language_info": {
   "codemirror_mode": {
    "name": "ipython",
    "version": 3
   },
   "file_extension": ".py",
   "mimetype": "text/x-python",
   "name": "python",
   "nbconvert_exporter": "python",
   "pygments_lexer": "ipython3",
   "version": "3.5.2"
  }
 },
 "nbformat": 4,
 "nbformat_minor": 1
}
