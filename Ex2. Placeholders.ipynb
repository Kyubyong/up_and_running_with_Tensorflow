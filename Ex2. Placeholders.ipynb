{
 "cells": [
  {
   "cell_type": "markdown",
   "metadata": {},
   "source": [
    "Ex2. Build a graph which cycles 5 times below and retrieve the value of Variable `a`."
   ]
  },
  {
   "cell_type": "markdown",
   "metadata": {},
   "source": [
    "<img src=\"figs/fig3.png\",width=500>"
   ]
  },
  {
   "cell_type": "markdown",
   "metadata": {},
   "source": [
    "Start NumPy and TensorFlow"
   ]
  },
  {
   "cell_type": "code",
   "execution_count": 1,
   "metadata": {
    "collapsed": true
   },
   "outputs": [],
   "source": [
    "import ...\n",
    "import ..."
   ]
  },
  {
   "cell_type": "markdown",
   "metadata": {},
   "source": [
    "Build a graph"
   ]
  },
  {
   "cell_type": "code",
   "execution_count": 6,
   "metadata": {
    "collapsed": false
   },
   "outputs": [],
   "source": [
    "# Define inputs\n",
    "a = tf.Variable(...)\n",
    "b_pl = tf.placeholder(tf.float32, shape=...)\n",
    "\n",
    "# Ops\n",
    "c = ...\n",
    "d = ...\n",
    "e = ...\n",
    "f = ...\n",
    "g = ...\n",
    "\n",
    "# initialize variable(s)\n",
    "init = ...\n",
    "\n",
    "# Update variable\n",
    "update_op = ...\n",
    "\n",
    "# Create a saver\n",
    "saver = ...\n",
    "\n",
    "# Create a (summary) writer\n",
    "writer = tf.summary.FileWriter('asset2', ...)\n",
    "\n",
    "# Add scalar `a` to writer\n",
    "...\n",
    "\n",
    "# Merge all summaries\n",
    "summaries = ...\n"
   ]
  },
  {
   "cell_type": "markdown",
   "metadata": {},
   "source": [
    "Launch the graph"
   ]
  },
  {
   "cell_type": "code",
   "execution_count": 5,
   "metadata": {
    "collapsed": false
   },
   "outputs": [],
   "source": [
    "# Start a session\n",
    "sess = ...\n",
    "\n",
    "# Initialize Variable(s)\n",
    "sess.run(init)\n",
    "\n",
    "# Fetch the value of c, d, and e.\n",
    "for step in range(5):\n",
    "    _b = np.arange(10, dtype=np.float32)\n",
    "    _, _s = sess.run([update_op, summaries], {b_pl:_b})\n",
    "    \n",
    "    # Write _s to Tensorboard\n",
    "    ...\n",
    "    \n",
    "    # Save Variable a\n",
    "    ...   \n",
    "    \n",
    "# Close the session\n",
    "sess.close()"
   ]
  },
  {
   "cell_type": "markdown",
   "metadata": {},
   "source": [
    "Restore Variable a"
   ]
  },
  {
   "cell_type": "code",
   "execution_count": null,
   "metadata": {
    "collapsed": false
   },
   "outputs": [],
   "source": [
    "# Start a new session\n",
    "sess2 = tf.Session()\n",
    "\n",
    "# Restore Variable a\n",
    "...\n",
    "\n",
    "# Check the value of a\n",
    "print(sess2.run(a))"
   ]
  },
  {
   "cell_type": "code",
   "execution_count": null,
   "metadata": {
    "collapsed": true
   },
   "outputs": [],
   "source": []
  }
 ],
 "metadata": {
  "anaconda-cloud": {},
  "kernelspec": {
   "display_name": "Python [conda root]",
   "language": "python",
   "name": "conda-root-py"
  },
  "language_info": {
   "codemirror_mode": {
    "name": "ipython",
    "version": 3
   },
   "file_extension": ".py",
   "mimetype": "text/x-python",
   "name": "python",
   "nbconvert_exporter": "python",
   "pygments_lexer": "ipython3",
   "version": "3.5.2"
  }
 },
 "nbformat": 4,
 "nbformat_minor": 1
}
