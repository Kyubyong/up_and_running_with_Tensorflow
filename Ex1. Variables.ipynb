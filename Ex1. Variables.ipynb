{
 "cells": [
  {
   "cell_type": "markdown",
   "metadata": {},
   "source": [
    "Ex1. Build a graph which cycles 5 times below and retrieve the value of Variable `a` and Tensor `e`."
   ]
  },
  {
   "cell_type": "markdown",
   "metadata": {},
   "source": [
    "<img src=\"figs/fig2.png\",width=500>"
   ]
  },
  {
   "cell_type": "markdown",
   "metadata": {},
   "source": [
    "Start TensorFlow"
   ]
  },
  {
   "cell_type": "code",
   "execution_count": null,
   "metadata": {
    "collapsed": true
   },
   "outputs": [],
   "source": [
    "..."
   ]
  },
  {
   "cell_type": "markdown",
   "metadata": {},
   "source": [
    "Build a graph"
   ]
  },
  {
   "cell_type": "code",
   "execution_count": null,
   "metadata": {
    "collapsed": false
   },
   "outputs": [],
   "source": [
    "# Define inputs\n",
    "a = ...\n",
    "b = ...\n",
    "\n",
    "# Ops\n",
    "c = a * b\n",
    "d = a + b\n",
    "e = c - d \n",
    "\n",
    "# Update the value of `a`\n",
    "...\n",
    "\n",
    "# initialize variable(s)\n",
    "...\n"
   ]
  },
  {
   "cell_type": "markdown",
   "metadata": {},
   "source": [
    "Launch the graph"
   ]
  },
  {
   "cell_type": "code",
   "execution_count": null,
   "metadata": {
    "collapsed": false
   },
   "outputs": [],
   "source": [
    "# Start a session\n",
    "...\n",
    "\n",
    "# Initialize Variable(s)\n",
    "...\n",
    "\n",
    "# Fetch the value of c, d, and e.\n",
    "for step in range(5):\n",
    "    # Fetch the value of `a` and `e`.\n",
    "    ...\n",
    "    \n",
    "    # Update the value of `a`\n",
    "    ...\n",
    "    \n",
    "# Close the session\n",
    "sess.close()"
   ]
  }
 ],
 "metadata": {
  "anaconda-cloud": {},
  "kernelspec": {
   "display_name": "Python [conda root]",
   "language": "python",
   "name": "conda-root-py"
  },
  "language_info": {
   "codemirror_mode": {
    "name": "ipython",
    "version": 3
   },
   "file_extension": ".py",
   "mimetype": "text/x-python",
   "name": "python",
   "nbconvert_exporter": "python",
   "pygments_lexer": "ipython3",
   "version": "3.5.2"
  }
 },
 "nbformat": 4,
 "nbformat_minor": 1
}
