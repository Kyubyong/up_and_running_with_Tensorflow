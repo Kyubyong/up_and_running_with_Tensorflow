{
 "cells": [
  {
   "cell_type": "markdown",
   "metadata": {},
   "source": [
    "* Note: These codes are partly adapted from TensorFlow Tutorial of Stanford cs224d course \n",
    "    https://cs224d.stanford.edu/lectures/CS224d-Lecture7.pdf"
   ]
  },
  {
   "cell_type": "markdown",
   "metadata": {},
   "source": [
    "Ex3. This is a simple exercise on linear regression in TensorFlow. Follow the instructions, and fill out the codes."
   ]
  },
  {
   "cell_type": "code",
   "execution_count": 1,
   "metadata": {
    "collapsed": false
   },
   "outputs": [],
   "source": [
    "from __future__ import print_function\n",
    "import numpy as np\n",
    "import tensorflow as tf\n",
    "import matplotlib.pyplot as plt\n",
    "%matplotlib inline"
   ]
  },
  {
   "cell_type": "markdown",
   "metadata": {},
   "source": [
    "Overview"
   ]
  },
  {
   "cell_type": "code",
   "execution_count": 2,
   "metadata": {
    "collapsed": false
   },
   "outputs": [],
   "source": [
    "_x = np.arange(0, 100, .1)"
   ]
  },
  {
   "cell_type": "code",
   "execution_count": 3,
   "metadata": {
    "collapsed": false
   },
   "outputs": [
    {
     "data": {
      "text/plain": [
       "array([ 77.9,  51.4,  59.8,   2.1,  19.3,  81.8,  83.7,  30.6,   4.4,\n",
       "        67.5,  40.8,  25.4,   1.5,   5.7,  42.5,  64.4,  21.2,  12.3,\n",
       "        60.6,  31.6,  49.6,  89.2,  50.4,  99.5,  12.2,  71.8,  92.5,\n",
       "        53.5,  18.6,  73.6,  13.8,  54.1,  92.9,  68.1,  79.1,  22.1,\n",
       "        30.4,  23.4,  75.7,  79.7,  86. ,  98.4,  86.7,   5.9,  73.2,\n",
       "         7.1,  30. ,  67.3,   3.6,  22.8,  53.4,  85.1,  53. ,  97.2,\n",
       "        44.8,  18. ,  26.6,  80.2,  52.3,  13.1,  46.3,  26.2,  84.3,\n",
       "        16.2,  54.4,   5.6,  18.3,  56.8,  80.7,  44.4,  29.1,  91.4,\n",
       "        15.5,   9.8,  79.9,  67.6,  95.6,  93.5,  82.8,  42.2,  70.4,\n",
       "        63.5,  78.7,  94.6,  55.5,  51.1,  19.8,  22.5,  38.4,  36.8,\n",
       "        38.1,  44. ,  96.4,  93.6,  32.5,   6.8,  63.3,  37.3,  88.1,  41.2])"
      ]
     },
     "execution_count": 3,
     "metadata": {},
     "output_type": "execute_result"
    }
   ],
   "source": [
    "np.random.shuffle(_x)\n",
    "_x[:100]"
   ]
  },
  {
   "cell_type": "code",
   "execution_count": 4,
   "metadata": {
    "collapsed": true
   },
   "outputs": [],
   "source": [
    "_y = _x + 20*np.sin(_x*.1)"
   ]
  },
  {
   "cell_type": "code",
   "execution_count": 5,
   "metadata": {
    "collapsed": false
   },
   "outputs": [
    {
     "data": {
      "text/plain": [
       "<matplotlib.collections.PathCollection at 0x265a3baf400>"
      ]
     },
     "execution_count": 5,
     "metadata": {},
     "output_type": "execute_result"
    },
    {
     "data": {
      "image/png": "[encoded data removed]",
      "text/plain": [
       "<matplotlib.figure.Figure at 0x2659ff87ba8>"
      ]
     },
     "metadata": {},
     "output_type": "display_data"
    }
   ],
   "source": [
    "plt.scatter(_x, _y)"
   ]
  },
  {
   "cell_type": "markdown",
   "metadata": {},
   "source": [
    "Build a graph"
   ]
  },
  {
   "cell_type": "code",
   "execution_count": 6,
   "metadata": {
    "collapsed": true
   },
   "outputs": [],
   "source": [
    "# Inputs, Outputs\n",
    "x_pl = tf.placeholder(tf.float32, [None, 1]) # 2-D\n",
    "y_pl = tf.placeholder(tf.float32, [None, 1]) # 2-D"
   ]
  },
  {
   "cell_type": "code",
   "execution_count": 7,
   "metadata": {
    "collapsed": true
   },
   "outputs": [],
   "source": [
    "# Variables\n",
    "W = tf.Variable(tf.random_normal([1, 1]), name=\"weight\")\n",
    "b = tf.Variable(tf.random_normal([1]), name=\"bias\")"
   ]
  },
  {
   "cell_type": "code",
   "execution_count": 8,
   "metadata": {
    "collapsed": false
   },
   "outputs": [],
   "source": [
    "# Hypothesis\n",
    "h = tf.matmul(x_pl, W) + b # (None, 1)"
   ]
  },
  {
   "cell_type": "code",
   "execution_count": 9,
   "metadata": {
    "collapsed": false
   },
   "outputs": [
    {
     "data": {
      "text/plain": [
       "<tf.Tensor 'add:0' shape=(?, 1) dtype=float32>"
      ]
     },
     "execution_count": 9,
     "metadata": {},
     "output_type": "execute_result"
    }
   ],
   "source": [
    "h"
   ]
  },
  {
   "cell_type": "code",
   "execution_count": 10,
   "metadata": {
    "collapsed": true
   },
   "outputs": [],
   "source": [
    "# loss\n",
    "loss = tf.reduce_mean(tf.square(y_pl - h))"
   ]
  },
  {
   "cell_type": "code",
   "execution_count": 11,
   "metadata": {
    "collapsed": true
   },
   "outputs": [],
   "source": [
    "# Optimization\n",
    "optimizer = tf.train.AdamOptimizer()\n",
    "train_op = optimizer.minimize(loss)"
   ]
  },
  {
   "cell_type": "code",
   "execution_count": 12,
   "metadata": {
    "collapsed": true
   },
   "outputs": [],
   "source": [
    "# Init\n",
    "init = tf.global_variables_initializer()"
   ]
  },
  {
   "cell_type": "code",
   "execution_count": 13,
   "metadata": {
    "collapsed": false
   },
   "outputs": [],
   "source": [
    "# Summary\n",
    "writer = tf.summary.FileWriter('asset', tf.get_default_graph())\n",
    "tf.summary.scalar(\"loss\", loss)\n",
    "tf.summary.scalar(\"W\", W[0, 0])\n",
    "tf.summary.scalar(\"b\", b[0])\n",
    "summaries = tf.summary.merge_all()"
   ]
  },
  {
   "cell_type": "markdown",
   "metadata": {},
   "source": [
    "Launch the graph"
   ]
  },
  {
   "cell_type": "code",
   "execution_count": 14,
   "metadata": {
    "collapsed": true
   },
   "outputs": [],
   "source": [
    "# Start a session\n",
    "sess = tf.Session()\n",
    "\n",
    "# Initialize all variables\n",
    "sess.run(tf.global_variables_initializer())"
   ]
  },
  {
   "cell_type": "code",
   "execution_count": 15,
   "metadata": {
    "collapsed": true
   },
   "outputs": [],
   "source": [
    "def get_samples(x, y, size):\n",
    "    assert len(x) == len(y), \"Two arrays must be the same in length!\"\n",
    "    indices = np.random.choice(len(x), size)\n",
    "    sample1 = x[indices]\n",
    "    sample2 = y[indices]\n",
    "    return np.expand_dims(sample1,1), np.expand_dims(sample2, 1)\n",
    "    "
   ]
  },
  {
   "cell_type": "code",
   "execution_count": 16,
   "metadata": {
    "collapsed": false
   },
   "outputs": [],
   "source": [
    "loss_list = []\n",
    "for i in range(1, 2001):\n",
    "    x_batch, y_batch = get_samples(_x, _y, 100)\n",
    "    sess.run(train_op, {x_pl:x_batch, y_pl:y_batch})\n",
    "    _loss, _s = sess.run([loss, summaries], {x_pl:x_batch, y_pl:y_batch})\n",
    "    writer.add_summary(_s)\n",
    "    loss_list.append(_loss)\n",
    "    "
   ]
  },
  {
   "cell_type": "code",
   "execution_count": 17,
   "metadata": {
    "collapsed": false
   },
   "outputs": [],
   "source": [
    "_w, _b = sess.run([W, b])"
   ]
  },
  {
   "cell_type": "code",
   "execution_count": 19,
   "metadata": {
    "collapsed": false
   },
   "outputs": [
    {
     "data": {
      "text/plain": [
       "[<matplotlib.lines.Line2D at 0x265a3d46ba8>]"
      ]
     },
     "execution_count": 19,
     "metadata": {},
     "output_type": "execute_result"
    },
    {
     "data": {
      "image/png": "[encoded data removed]",
      "text/plain": [
       "<matplotlib.figure.Figure at 0x265a3d46be0>"
      ]
     },
     "metadata": {},
     "output_type": "display_data"
    }
   ],
   "source": [
    "plt.scatter(_x, _y, c=\"r\")\n",
    "plt.plot(_x, _x * _w[0, 0] + _b[0])"
   ]
  },
  {
   "cell_type": "code",
   "execution_count": null,
   "metadata": {
    "collapsed": true
   },
   "outputs": [],
   "source": []
  }
 ],
 "metadata": {
  "anaconda-cloud": {},
  "kernelspec": {
   "display_name": "Python [conda root]",
   "language": "python",
   "name": "conda-root-py"
  },
  "language_info": {
   "codemirror_mode": {
    "name": "ipython",
    "version": 3
   },
   "file_extension": ".py",
   "mimetype": "text/x-python",
   "name": "python",
   "nbconvert_exporter": "python",
   "pygments_lexer": "ipython3",
   "version": "3.5.2"
  }
 },
 "nbformat": 4,
 "nbformat_minor": 1
}
