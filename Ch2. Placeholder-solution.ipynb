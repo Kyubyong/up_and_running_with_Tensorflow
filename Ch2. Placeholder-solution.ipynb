{
 "cells": [
  {
   "cell_type": "markdown",
   "metadata": {},
   "source": [
    "Ch2. Build a graph which cycles 5 times below and retrieve the value of Variable `a`."
   ]
  },
  {
   "cell_type": "markdown",
   "metadata": {},
   "source": [
    "<img src=\"figs/fig3.png\",width=500>"
   ]
  },
  {
   "cell_type": "markdown",
   "metadata": {},
   "source": [
    "Start NumPy and TensorFlow"
   ]
  },
  {
   "cell_type": "code",
   "execution_count": 1,
   "metadata": {
    "collapsed": true
   },
   "outputs": [],
   "source": [
    "import tensorflow as tf\n",
    "import numpy as np"
   ]
  },
  {
   "cell_type": "markdown",
   "metadata": {},
   "source": [
    "Build a graph"
   ]
  },
  {
   "cell_type": "code",
   "execution_count": 2,
   "metadata": {
    "collapsed": false
   },
   "outputs": [],
   "source": [
    "# Define inputs\n",
    "a = tf.Variable(tf.random_uniform([]))\n",
    "b_pl = tf.placeholder(tf.float32, [None])\n",
    "\n",
    "# Ops\n",
    "c = a * b_pl\n",
    "d = a + b_pl\n",
    "e = tf.reduce_sum(c)\n",
    "f = tf.reduce_mean(d)\n",
    "g = e - f\n",
    "\n",
    "# initialize variable(s)\n",
    "init = tf.global_variables_initializer()\n",
    "\n",
    "# Update variable\n",
    "update_op = tf.assign(a, a + g)\n",
    "\n",
    "# Create a (summary) writer\n",
    "writer = tf.summary.FileWriter('asset', tf.get_default_graph())\n",
    "tf.summary.scalar(\"a\", a)\n",
    "summaries = tf.summary.merge_all()\n"
   ]
  },
  {
   "cell_type": "markdown",
   "metadata": {},
   "source": [
    "Launch the graph"
   ]
  },
  {
   "cell_type": "code",
   "execution_count": 3,
   "metadata": {
    "collapsed": false
   },
   "outputs": [],
   "source": [
    "# Start a session\n",
    "sess = tf.Session()\n",
    "\n",
    "# Initialize Variable(s)\n",
    "sess.run(init)\n",
    "\n",
    "# Fetch the value of c, d, and e.\n",
    "for step in range(5):\n",
    "    _b = np.arange(10, dtype=np.float32)\n",
    "    _, summaries_proto = sess.run([update_op, summaries], {b_pl:_b})\n",
    "    \n",
    "    writer.add_summary(summaries_proto, global_step=step)\n",
    "    \n",
    "# Close the session\n",
    "sess.close()"
   ]
  },
  {
   "cell_type": "code",
   "execution_count": null,
   "metadata": {
    "collapsed": true
   },
   "outputs": [],
   "source": []
  }
 ],
 "metadata": {
  "anaconda-cloud": {},
  "kernelspec": {
   "display_name": "Python [conda root]",
   "language": "python",
   "name": "conda-root-py"
  },
  "language_info": {
   "codemirror_mode": {
    "name": "ipython",
    "version": 3
   },
   "file_extension": ".py",
   "mimetype": "text/x-python",
   "name": "python",
   "nbconvert_exporter": "python",
   "pygments_lexer": "ipython3",
   "version": "3.5.2"
  }
 },
 "nbformat": 4,
 "nbformat_minor": 1
}
