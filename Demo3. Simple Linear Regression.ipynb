{
 "cells": [
  {
   "cell_type": "code",
   "execution_count": 1,
   "metadata": {
    "collapsed": false
   },
   "outputs": [],
   "source": [
    "import tensorflow as tf\n",
    "import numpy as np\n",
    "import matplotlib.pyplot as plt\n",
    "%matplotlib inline"
   ]
  },
  {
   "cell_type": "code",
   "execution_count": 2,
   "metadata": {
    "collapsed": true
   },
   "outputs": [],
   "source": [
    "# For reproducibility\n",
    "np.random.seed(1)"
   ]
  },
  {
   "cell_type": "markdown",
   "metadata": {},
   "source": [
    "Let's design overall scheme."
   ]
  },
  {
   "cell_type": "code",
   "execution_count": 3,
   "metadata": {
    "collapsed": true
   },
   "outputs": [],
   "source": [
    "# inputs\n",
    "x = np.linspace(0, 1, 100, dtype=np.float32)\n",
    "\n",
    "# ground truth\n",
    "slopes = np.random.normal(1, 0.5, 100).astype(np.float32)\n",
    "intercept = 2.\n",
    "\n",
    "# outputs\n",
    "y = x * slopes + intercept"
   ]
  },
  {
   "cell_type": "code",
   "execution_count": 4,
   "metadata": {
    "collapsed": false
   },
   "outputs": [
    {
     "data": {
      "text/plain": [
       "array([ 1.81217265,  0.69412178,  0.73591411,  0.4635157 ,  1.43270385,\n",
       "       -0.15076935,  1.87240589,  0.61939657,  1.15951955,  0.87531483,\n",
       "        1.73105395, -0.03007036,  0.83879137,  0.80797285,  1.56688476,\n",
       "        0.45005438,  0.91378587,  0.5610708 ,  1.02110684,  1.29140759,\n",
       "        0.4496904 ,  1.57236183,  1.45079541,  1.25124717,  1.45042801,\n",
       "        0.65813607,  0.93855488,  0.53211528,  0.86605597,  1.26517773,\n",
       "        0.65416962,  0.80162323,  0.65641367,  0.57739717,  0.66437691,\n",
       "        0.99366772,  0.44134483,  1.11720788,  1.8299011 ,  1.37102211,\n",
       "        0.90408224,  0.55618554,  0.62642086,  1.84622729,  1.02540386,\n",
       "        0.68150216,  1.09545779,  2.05012751,  1.06007946,  1.3086015 ,\n",
       "        1.15008521,  0.82387507,  0.42874089,  0.82532865,  0.89555287,\n",
       "        1.2933116 ,  1.41949165,  1.46555102,  1.14279366,  1.44257057,\n",
       "        0.62280101,  1.62643409,  1.25646496,  0.85095358,  1.24425912,\n",
       "        0.96221417,  1.56581473,  1.75990844,  2.09278774,  0.30175182,\n",
       "        0.2779431 ,  0.74776709,  1.08001852,  1.43808448,  1.15781748,\n",
       "       -0.01110061,  0.84689802,  1.41398728,  1.11504734,  1.38100564,\n",
       "        0.88883591,  0.89962095,  1.09328067,  1.20502579,  1.09914982,\n",
       "        1.05950427,  0.66466886,  1.18878186,  1.06091058,  1.56474197,\n",
       "        1.59945893,  1.09257817,  0.81235754,  0.6806348 ,  1.21174717,\n",
       "        1.03867006,  0.82807314,  1.02179837,  0.68999958,  1.34901607], dtype=float32)"
      ]
     },
     "execution_count": 4,
     "metadata": {},
     "output_type": "execute_result"
    }
   ],
   "source": [
    "slopes"
   ]
  },
  {
   "cell_type": "code",
   "execution_count": 5,
   "metadata": {
    "collapsed": false
   },
   "outputs": [
    {
     "data": {
      "image/png": "[encoded data removed]",
      "text/plain": [
       "<matplotlib.figure.Figure at 0x1e702af8898>"
      ]
     },
     "metadata": {},
     "output_type": "display_data"
    }
   ],
   "source": [
    "plt.scatter(x, y)\n",
    "plt.plot(x, x * 1 + 2., label=\"ground truth\", c=\"r\")\n",
    "plt.legend()\n",
    "plt.show()"
   ]
  },
  {
   "cell_type": "markdown",
   "metadata": {},
   "source": [
    "Build a graph"
   ]
  },
  {
   "cell_type": "code",
   "execution_count": 6,
   "metadata": {
    "collapsed": false
   },
   "outputs": [
    {
     "data": {
      "text/plain": [
       "dtype('float32')"
      ]
     },
     "execution_count": 6,
     "metadata": {},
     "output_type": "execute_result"
    }
   ],
   "source": [
    "x.dtype"
   ]
  },
  {
   "cell_type": "code",
   "execution_count": 7,
   "metadata": {
    "collapsed": false
   },
   "outputs": [
    {
     "data": {
      "text/plain": [
       "dtype('float32')"
      ]
     },
     "execution_count": 7,
     "metadata": {},
     "output_type": "execute_result"
    }
   ],
   "source": [
    "y.dtype"
   ]
  },
  {
   "cell_type": "code",
   "execution_count": 8,
   "metadata": {
    "collapsed": false
   },
   "outputs": [
    {
     "data": {
      "text/plain": [
       "(100,)"
      ]
     },
     "execution_count": 8,
     "metadata": {},
     "output_type": "execute_result"
    }
   ],
   "source": [
    "x.shape"
   ]
  },
  {
   "cell_type": "code",
   "execution_count": 9,
   "metadata": {
    "collapsed": false
   },
   "outputs": [
    {
     "data": {
      "text/plain": [
       "(100,)"
      ]
     },
     "execution_count": 9,
     "metadata": {},
     "output_type": "execute_result"
    }
   ],
   "source": [
    "y.shape"
   ]
  },
  {
   "cell_type": "code",
   "execution_count": 10,
   "metadata": {
    "collapsed": false
   },
   "outputs": [],
   "source": [
    "# Inputs\n",
    "x_pl = tf.placeholder(tf.float32, [100,], name=\"x_pl\")\n",
    "y_pl = tf.placeholder(tf.float32, [100,], name=\"y_pl\")"
   ]
  },
  {
   "cell_type": "code",
   "execution_count": 11,
   "metadata": {
    "collapsed": false
   },
   "outputs": [],
   "source": [
    "# Computation\n",
    "## Variables = Parameters = Weights\n",
    "w = tf.Variable(.1, tf.float32)\n",
    "b = tf.Variable(0., tf.float32)"
   ]
  },
  {
   "cell_type": "code",
   "execution_count": 12,
   "metadata": {
    "collapsed": true
   },
   "outputs": [],
   "source": [
    "## prediction = y_hat = hypothesis\n",
    "preds = x_pl * w + b # (100,)"
   ]
  },
  {
   "cell_type": "code",
   "execution_count": 13,
   "metadata": {
    "collapsed": false
   },
   "outputs": [],
   "source": [
    "# objective = loss = cost\n",
    "loss = tf.reduce_mean(tf.square(preds - y)) # L2 loss"
   ]
  },
  {
   "cell_type": "code",
   "execution_count": 14,
   "metadata": {
    "collapsed": true
   },
   "outputs": [],
   "source": [
    "# Optimization = Training\n",
    "optimizer = tf.train.GradientDescentOptimizer(learning_rate=.1)\n",
    "train_op = optimizer.minimize(loss)"
   ]
  },
  {
   "cell_type": "markdown",
   "metadata": {},
   "source": [
    "Launch the graph"
   ]
  },
  {
   "cell_type": "code",
   "execution_count": 15,
   "metadata": {
    "collapsed": true
   },
   "outputs": [],
   "source": [
    "# start a session\n",
    "sess = tf.Session()"
   ]
  },
  {
   "cell_type": "code",
   "execution_count": 16,
   "metadata": {
    "collapsed": true
   },
   "outputs": [],
   "source": [
    "# initialize all variables\n",
    "sess.run(tf.global_variables_initializer())"
   ]
  },
  {
   "cell_type": "code",
   "execution_count": 17,
   "metadata": {
    "collapsed": false
   },
   "outputs": [],
   "source": [
    "loss_list, w_list, b_list = [], [], []\n",
    "for epoch in range(1, 21):\n",
    "    _, _loss, _w, _b = sess.run([train_op, loss, w, b], {x_pl:x, y_pl:y})\n",
    "#     print(epoch, \"\\t\", _loss, \"\\t\", _w, \"\\t\", _b)\n",
    "    loss_list.append(_loss)\n",
    "    w_list.append(_w)\n",
    "    b_list.append(_b)"
   ]
  },
  {
   "cell_type": "code",
   "execution_count": 18,
   "metadata": {
    "collapsed": false
   },
   "outputs": [
    {
     "data": {
      "image/png": "[encoded data removed]",
      "text/plain": [
       "<matplotlib.figure.Figure at 0x1e702c89278>"
      ]
     },
     "metadata": {},
     "output_type": "display_data"
    }
   ],
   "source": [
    "plt.plot(loss_list, label=\"loss\")\n",
    "plt.plot(w_list, label=\"w\")\n",
    "plt.plot(b_list, label=\"b\")\n",
    "plt.legend()\n",
    "plt.show()"
   ]
  },
  {
   "cell_type": "code",
   "execution_count": null,
   "metadata": {
    "collapsed": true
   },
   "outputs": [],
   "source": []
  }
 ],
 "metadata": {
  "anaconda-cloud": {},
  "kernelspec": {
   "display_name": "Python [conda root]",
   "language": "python",
   "name": "conda-root-py"
  },
  "language_info": {
   "codemirror_mode": {
    "name": "ipython",
    "version": 3
   },
   "file_extension": ".py",
   "mimetype": "text/x-python",
   "name": "python",
   "nbconvert_exporter": "python",
   "pygments_lexer": "ipython3",
   "version": "3.5.2"
  }
 },
 "nbformat": 4,
 "nbformat_minor": 2
}
